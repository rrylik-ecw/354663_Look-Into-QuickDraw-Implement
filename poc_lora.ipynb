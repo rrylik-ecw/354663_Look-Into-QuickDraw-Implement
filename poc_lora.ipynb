{
 "cells": [
  {
   "cell_type": "markdown",
   "id": "454fe060-dd9e-4b6d-881b-90c991cadbcf",
   "metadata": {
    "tags": []
   },
   "source": [
    "#0. Prepare environment"
   ]
  },
  {
   "cell_type": "code",
   "execution_count": 8,
   "id": "0c7b866e-4ca3-4972-94b1-049f9b1b41db",
   "metadata": {
    "tags": []
   },
   "outputs": [
    {
     "name": "stdout",
     "output_type": "stream",
     "text": [
      "PyTorch version:  1.12.1+cu113\n",
      "CUDA version:  11.3\n",
      "cuDNN version:  8302\n",
      "Is CUDA available:  True\n",
      "Is cuDNN available:  True\n",
      "1\n"
     ]
    }
   ],
   "source": [
    "import torch\n",
    "\n",
    "print(\"PyTorch version: \", torch.__version__)\n",
    "print(\"CUDA version: \", torch.version.cuda)\n",
    "print(\"cuDNN version: \", torch.backends.cudnn.version())\n",
    "print(\"Is CUDA available: \", torch.cuda.is_available())\n",
    "print(\"Is cuDNN available: \", torch.backends.cudnn.is_available())\n",
    "print(torch.cuda.device_count())"
   ]
  },
  {
   "cell_type": "code",
   "execution_count": 19,
   "id": "bc022b64-089b-4cd9-ae48-e41bacc49a1e",
   "metadata": {
    "tags": []
   },
   "outputs": [
    {
     "name": "stdout",
     "output_type": "stream",
     "text": [
      "Requirement already satisfied: accelerate>=0.16.0 in /opt/conda/lib/python3.8/site-packages (from -r requirements_lora.txt (line 1)) (0.20.3)\n",
      "Requirement already satisfied: torchvision in /opt/conda/lib/python3.8/site-packages (from -r requirements_lora.txt (line 2)) (0.13.1+cu113)\n",
      "Requirement already satisfied: transformers in /opt/conda/lib/python3.8/site-packages (from -r requirements_lora.txt (line 3)) (4.30.2)\n",
      "Collecting datasets\n",
      "  Using cached datasets-2.13.1-py3-none-any.whl (486 kB)\n",
      "Collecting ftfy\n",
      "  Using cached ftfy-6.1.1-py3-none-any.whl (53 kB)\n",
      "Collecting tensorboard\n",
      "  Using cached tensorboard-2.13.0-py3-none-any.whl (5.6 MB)\n",
      "Requirement already satisfied: Jinja2 in /opt/conda/lib/python3.8/site-packages (from -r requirements_lora.txt (line 7)) (3.1.2)\n",
      "Requirement already satisfied: pyyaml in /opt/conda/lib/python3.8/site-packages (from accelerate>=0.16.0->-r requirements_lora.txt (line 1)) (5.4.1)\n",
      "Requirement already satisfied: psutil in /opt/conda/lib/python3.8/site-packages (from accelerate>=0.16.0->-r requirements_lora.txt (line 1)) (5.9.4)\n",
      "Requirement already satisfied: numpy>=1.17 in /opt/conda/lib/python3.8/site-packages (from accelerate>=0.16.0->-r requirements_lora.txt (line 1)) (1.23.5)\n",
      "Requirement already satisfied: packaging>=20.0 in /opt/conda/lib/python3.8/site-packages (from accelerate>=0.16.0->-r requirements_lora.txt (line 1)) (23.0)\n",
      "Requirement already satisfied: torch>=1.6.0 in /opt/conda/lib/python3.8/site-packages (from accelerate>=0.16.0->-r requirements_lora.txt (line 1)) (1.12.1+cu113)\n",
      "Requirement already satisfied: typing-extensions in /opt/conda/lib/python3.8/site-packages (from torchvision->-r requirements_lora.txt (line 2)) (4.4.0)\n",
      "Requirement already satisfied: requests in /opt/conda/lib/python3.8/site-packages (from torchvision->-r requirements_lora.txt (line 2)) (2.28.2)\n",
      "Requirement already satisfied: pillow!=8.3.*,>=5.3.0 in /opt/conda/lib/python3.8/site-packages (from torchvision->-r requirements_lora.txt (line 2)) (9.4.0)\n",
      "Requirement already satisfied: tqdm>=4.27 in /opt/conda/lib/python3.8/site-packages (from transformers->-r requirements_lora.txt (line 3)) (4.64.1)\n",
      "Requirement already satisfied: huggingface-hub<1.0,>=0.14.1 in /opt/conda/lib/python3.8/site-packages (from transformers->-r requirements_lora.txt (line 3)) (0.16.4)\n",
      "Requirement already satisfied: regex!=2019.12.17 in /opt/conda/lib/python3.8/site-packages (from transformers->-r requirements_lora.txt (line 3)) (2023.6.3)\n",
      "Requirement already satisfied: tokenizers!=0.11.3,<0.14,>=0.11.1 in /opt/conda/lib/python3.8/site-packages (from transformers->-r requirements_lora.txt (line 3)) (0.13.3)\n",
      "Requirement already satisfied: safetensors>=0.3.1 in /opt/conda/lib/python3.8/site-packages (from transformers->-r requirements_lora.txt (line 3)) (0.3.1)\n",
      "Requirement already satisfied: filelock in /opt/conda/lib/python3.8/site-packages (from transformers->-r requirements_lora.txt (line 3)) (3.12.2)\n",
      "Requirement already satisfied: pyarrow>=8.0.0 in /opt/conda/lib/python3.8/site-packages (from datasets->-r requirements_lora.txt (line 4)) (11.0.0)\n",
      "Collecting xxhash\n",
      "  Using cached xxhash-3.2.0-cp38-cp38-manylinux_2_17_x86_64.manylinux2014_x86_64.whl (213 kB)\n",
      "Requirement already satisfied: fsspec[http]>=2021.11.1 in /opt/conda/lib/python3.8/site-packages (from datasets->-r requirements_lora.txt (line 4)) (2023.1.0)\n",
      "Requirement already satisfied: dill<0.3.7,>=0.3.0 in /opt/conda/lib/python3.8/site-packages (from datasets->-r requirements_lora.txt (line 4)) (0.3.6)\n",
      "Requirement already satisfied: pandas in /opt/conda/lib/python3.8/site-packages (from datasets->-r requirements_lora.txt (line 4)) (1.5.3)\n",
      "Collecting aiohttp\n",
      "  Using cached aiohttp-3.8.4-cp38-cp38-manylinux_2_17_x86_64.manylinux2014_x86_64.whl (1.0 MB)\n",
      "Requirement already satisfied: multiprocess in /opt/conda/lib/python3.8/site-packages (from datasets->-r requirements_lora.txt (line 4)) (0.70.14)\n",
      "Requirement already satisfied: wcwidth>=0.2.5 in /opt/conda/lib/python3.8/site-packages (from ftfy->-r requirements_lora.txt (line 5)) (0.2.6)\n",
      "Collecting absl-py>=0.4\n",
      "  Using cached absl_py-1.4.0-py3-none-any.whl (126 kB)\n",
      "Requirement already satisfied: setuptools>=41.0.0 in /opt/conda/lib/python3.8/site-packages (from tensorboard->-r requirements_lora.txt (line 6)) (65.6.3)\n",
      "Collecting tensorboard-data-server<0.8.0,>=0.7.0\n",
      "  Using cached tensorboard_data_server-0.7.1-py3-none-manylinux2014_x86_64.whl (6.6 MB)\n",
      "Collecting markdown>=2.6.8\n",
      "  Using cached Markdown-3.4.3-py3-none-any.whl (93 kB)\n",
      "Collecting google-auth<3,>=1.6.3\n",
      "  Using cached google_auth-2.22.0-py2.py3-none-any.whl (181 kB)\n",
      "Requirement already satisfied: werkzeug>=1.0.1 in /opt/conda/lib/python3.8/site-packages (from tensorboard->-r requirements_lora.txt (line 6)) (2.2.3)\n",
      "Collecting google-auth-oauthlib<1.1,>=0.5\n",
      "  Using cached google_auth_oauthlib-1.0.0-py2.py3-none-any.whl (18 kB)\n",
      "Requirement already satisfied: protobuf>=3.19.6 in /opt/conda/lib/python3.8/site-packages (from tensorboard->-r requirements_lora.txt (line 6)) (3.20.2)\n",
      "Requirement already satisfied: wheel>=0.26 in /opt/conda/lib/python3.8/site-packages (from tensorboard->-r requirements_lora.txt (line 6)) (0.38.4)\n",
      "Collecting grpcio>=1.48.2\n",
      "  Using cached grpcio-1.56.0-cp38-cp38-manylinux_2_17_x86_64.manylinux2014_x86_64.whl (5.2 MB)\n",
      "Requirement already satisfied: MarkupSafe>=2.0 in /opt/conda/lib/python3.8/site-packages (from Jinja2->-r requirements_lora.txt (line 7)) (2.1.2)\n",
      "Collecting yarl<2.0,>=1.0\n",
      "  Using cached yarl-1.9.2-cp38-cp38-manylinux_2_17_x86_64.manylinux2014_x86_64.whl (266 kB)\n",
      "Collecting aiosignal>=1.1.2\n",
      "  Using cached aiosignal-1.3.1-py3-none-any.whl (7.6 kB)\n",
      "Requirement already satisfied: attrs>=17.3.0 in /opt/conda/lib/python3.8/site-packages (from aiohttp->datasets->-r requirements_lora.txt (line 4)) (22.2.0)\n",
      "Collecting frozenlist>=1.1.1\n",
      "  Using cached frozenlist-1.3.3-cp38-cp38-manylinux_2_5_x86_64.manylinux1_x86_64.manylinux_2_17_x86_64.manylinux2014_x86_64.whl (161 kB)\n",
      "Collecting multidict<7.0,>=4.5\n",
      "  Using cached multidict-6.0.4-cp38-cp38-manylinux_2_17_x86_64.manylinux2014_x86_64.whl (121 kB)\n",
      "Requirement already satisfied: charset-normalizer<4.0,>=2.0 in /opt/conda/lib/python3.8/site-packages (from aiohttp->datasets->-r requirements_lora.txt (line 4)) (2.1.1)\n",
      "Collecting async-timeout<5.0,>=4.0.0a3\n",
      "  Using cached async_timeout-4.0.2-py3-none-any.whl (5.8 kB)\n",
      "Collecting cachetools<6.0,>=2.0.0\n",
      "  Using cached cachetools-5.3.1-py3-none-any.whl (9.3 kB)\n",
      "Requirement already satisfied: six>=1.9.0 in /opt/conda/lib/python3.8/site-packages (from google-auth<3,>=1.6.3->tensorboard->-r requirements_lora.txt (line 6)) (1.16.0)\n",
      "Requirement already satisfied: urllib3<2.0 in /opt/conda/lib/python3.8/site-packages (from google-auth<3,>=1.6.3->tensorboard->-r requirements_lora.txt (line 6)) (1.26.14)\n",
      "Requirement already satisfied: rsa<5,>=3.1.4 in /opt/conda/lib/python3.8/site-packages (from google-auth<3,>=1.6.3->tensorboard->-r requirements_lora.txt (line 6)) (4.7.2)\n",
      "Collecting pyasn1-modules>=0.2.1\n",
      "  Using cached pyasn1_modules-0.3.0-py2.py3-none-any.whl (181 kB)\n",
      "Collecting requests-oauthlib>=0.7.0\n",
      "  Using cached requests_oauthlib-1.3.1-py2.py3-none-any.whl (23 kB)\n",
      "Requirement already satisfied: importlib-metadata>=4.4 in /opt/conda/lib/python3.8/site-packages (from markdown>=2.6.8->tensorboard->-r requirements_lora.txt (line 6)) (4.13.0)\n",
      "Requirement already satisfied: idna<4,>=2.5 in /opt/conda/lib/python3.8/site-packages (from requests->torchvision->-r requirements_lora.txt (line 2)) (3.4)\n",
      "Requirement already satisfied: certifi>=2017.4.17 in /opt/conda/lib/python3.8/site-packages (from requests->torchvision->-r requirements_lora.txt (line 2)) (2022.12.7)\n",
      "Requirement already satisfied: python-dateutil>=2.8.1 in /opt/conda/lib/python3.8/site-packages (from pandas->datasets->-r requirements_lora.txt (line 4)) (2.8.2)\n",
      "Requirement already satisfied: pytz>=2020.1 in /opt/conda/lib/python3.8/site-packages (from pandas->datasets->-r requirements_lora.txt (line 4)) (2022.7.1)\n",
      "Requirement already satisfied: zipp>=0.5 in /opt/conda/lib/python3.8/site-packages (from importlib-metadata>=4.4->markdown>=2.6.8->tensorboard->-r requirements_lora.txt (line 6)) (3.13.0)\n",
      "Requirement already satisfied: pyasn1<0.6.0,>=0.4.6 in /opt/conda/lib/python3.8/site-packages (from pyasn1-modules>=0.2.1->google-auth<3,>=1.6.3->tensorboard->-r requirements_lora.txt (line 6)) (0.4.8)\n",
      "Collecting oauthlib>=3.0.0\n",
      "  Using cached oauthlib-3.2.2-py3-none-any.whl (151 kB)\n",
      "Installing collected packages: xxhash, tensorboard-data-server, pyasn1-modules, oauthlib, multidict, grpcio, ftfy, frozenlist, cachetools, async-timeout, absl-py, yarl, requests-oauthlib, markdown, google-auth, aiosignal, google-auth-oauthlib, aiohttp, tensorboard, datasets\n",
      "Successfully installed absl-py-1.4.0 aiohttp-3.8.4 aiosignal-1.3.1 async-timeout-4.0.2 cachetools-5.3.1 datasets-2.13.1 frozenlist-1.3.3 ftfy-6.1.1 google-auth-2.22.0 google-auth-oauthlib-1.0.0 grpcio-1.56.0 markdown-3.4.3 multidict-6.0.4 oauthlib-3.2.2 pyasn1-modules-0.3.0 requests-oauthlib-1.3.1 tensorboard-2.13.0 tensorboard-data-server-0.7.1 xxhash-3.2.0 yarl-1.9.2\n",
      "\u001b[33mWARNING: Running pip as the 'root' user can result in broken permissions and conflicting behaviour with the system package manager. It is recommended to use a virtual environment instead: https://pip.pypa.io/warnings/venv\u001b[0m\u001b[33m\n",
      "\u001b[0m\n",
      "\u001b[1m[\u001b[0m\u001b[34;49mnotice\u001b[0m\u001b[1;39;49m]\u001b[0m\u001b[39;49m A new release of pip is available: \u001b[0m\u001b[31;49m23.0\u001b[0m\u001b[39;49m -> \u001b[0m\u001b[32;49m23.1.2\u001b[0m\n",
      "\u001b[1m[\u001b[0m\u001b[34;49mnotice\u001b[0m\u001b[1;39;49m]\u001b[0m\u001b[39;49m To update, run: \u001b[0m\u001b[32;49mpip install --upgrade pip\u001b[0m\n"
     ]
    }
   ],
   "source": [
    "!pip install -r requirements_lora.txt"
   ]
  },
  {
   "cell_type": "code",
   "execution_count": 4,
   "id": "ec87ec27-e5b5-4cc5-b0bf-cdd7d59b832b",
   "metadata": {},
   "outputs": [],
   "source": [
    "MODEL_NAME=\"runwayml/stable-diffusion-v1-5\"\n",
    "TRAIN_DIR=\"generated_data\"\n",
    "OUTPUT_DIR=\"lora_model\""
   ]
  },
  {
   "cell_type": "markdown",
   "id": "ce787863-7fce-4ccb-9451-9099a826f2c7",
   "metadata": {},
   "source": [
    "#1. Train with LoRA"
   ]
  },
  {
   "cell_type": "code",
   "execution_count": 24,
   "id": "c550c838-ae7d-480f-8661-0cedf2e50d56",
   "metadata": {
    "tags": []
   },
   "outputs": [
    {
     "name": "stdout",
     "output_type": "stream",
     "text": [
      "07/11/2023 21:54:58 - INFO - __main__ - Distributed environment: MULTI_GPU  Backend: nccl\n",
      "Num processes: 1\n",
      "Process index: 0\n",
      "Local process index: 0\n",
      "Device: cuda:0\n",
      "\n",
      "Mixed precision type: fp16\n",
      "\n",
      "{'thresholding', 'clip_sample_range', 'dynamic_thresholding_ratio', 'variance_type', 'sample_max_value', 'timestep_spacing', 'prediction_type'} was not found in config. Values will be initialized to default values.\n",
      "{'scaling_factor'} was not found in config. Values will be initialized to default values.\n",
      "{'num_attention_heads', 'conv_in_kernel', 'mid_block_type', 'num_class_embeds', 'timestep_post_act', 'addition_embed_type_num_heads', 'mid_block_only_cross_attention', 'upcast_attention', 'class_embed_type', 'time_embedding_dim', 'projection_class_embeddings_input_dim', 'transformer_layers_per_block', 'class_embeddings_concat', 'addition_embed_type', 'encoder_hid_dim_type', 'dual_cross_attention', 'cross_attention_norm', 'resnet_out_scale_factor', 'conv_out_kernel', 'resnet_time_scale_shift', 'time_embedding_act_fn', 'use_linear_projection', 'time_embedding_type', 'addition_time_embed_dim', 'encoder_hid_dim', 'time_cond_proj_dim', 'only_cross_attention', 'resnet_skip_time_act'} was not found in config. Values will be initialized to default values.\n",
      "Resolving data files: 100%|██████████████| 1001/1001 [00:00<00:00, 54782.08it/s]\n",
      "07/11/2023 21:55:05 - WARNING - datasets.builder - Found cached dataset imagefolder (/root/.cache/huggingface/datasets/imagefolder/default-07bb04091392a8d3/0.0.0/37fbb85cc714a338bea574ac6c7d0b5be5aff46c1862c1989b20e0771199e93f)\n",
      "100%|████████████████████████████████████████████| 1/1 [00:00<00:00, 181.05it/s]\n",
      "pytorch-1-12-gpu-p-ml-g4dn-2xlarge-1f5d52cab501ceb4d2e976f72d74:386:386 [0] NCCL INFO Bootstrap : Using lo:127.0.0.1<0>\n",
      "pytorch-1-12-gpu-p-ml-g4dn-2xlarge-1f5d52cab501ceb4d2e976f72d74:386:386 [0] NCCL INFO NET/Plugin: Failed to find ncclCollNetPlugin_v4 symbol.\n",
      "pytorch-1-12-gpu-p-ml-g4dn-2xlarge-1f5d52cab501ceb4d2e976f72d74:386:386 [0] NCCL INFO NET/OFI Using aws-ofi-nccl 1.3.0aws\n",
      "pytorch-1-12-gpu-p-ml-g4dn-2xlarge-1f5d52cab501ceb4d2e976f72d74:386:386 [0] NCCL INFO NET/OFI Setting FI_EFA_FORK_SAFE environment variable to 1\n",
      "\n",
      "pytorch-1-12-gpu-p-ml-g4dn-2xlarge-1f5d52cab501ceb4d2e976f72d74:386:386 [0] ofi_init:1288 NCCL WARN NET/OFI Only EFA provider is supported\n",
      "\n",
      "pytorch-1-12-gpu-p-ml-g4dn-2xlarge-1f5d52cab501ceb4d2e976f72d74:386:386 [0] ofi_init:1339 NCCL WARN NET/OFI aws-ofi-nccl initialization failed\n",
      "pytorch-1-12-gpu-p-ml-g4dn-2xlarge-1f5d52cab501ceb4d2e976f72d74:386:386 [0] NCCL INFO NET/IB : No device found.\n",
      "pytorch-1-12-gpu-p-ml-g4dn-2xlarge-1f5d52cab501ceb4d2e976f72d74:386:386 [0] NCCL INFO NET/Socket : Using [0]lo:127.0.0.1<0> [1]veth-app0-2:169.255.255.2<0> [2]veth-app0-3:169.255.254.1<0>\n",
      "pytorch-1-12-gpu-p-ml-g4dn-2xlarge-1f5d52cab501ceb4d2e976f72d74:386:386 [0] NCCL INFO Using network Socket\n",
      "NCCL version 2.10.3+cuda11.3\n",
      "pytorch-1-12-gpu-p-ml-g4dn-2xlarge-1f5d52cab501ceb4d2e976f72d74:386:466 [0] NCCL INFO Channel 00/32 :    0\n",
      "pytorch-1-12-gpu-p-ml-g4dn-2xlarge-1f5d52cab501ceb4d2e976f72d74:386:466 [0] NCCL INFO Channel 01/32 :    0\n",
      "pytorch-1-12-gpu-p-ml-g4dn-2xlarge-1f5d52cab501ceb4d2e976f72d74:386:466 [0] NCCL INFO Channel 02/32 :    0\n",
      "pytorch-1-12-gpu-p-ml-g4dn-2xlarge-1f5d52cab501ceb4d2e976f72d74:386:466 [0] NCCL INFO Channel 03/32 :    0\n",
      "pytorch-1-12-gpu-p-ml-g4dn-2xlarge-1f5d52cab501ceb4d2e976f72d74:386:466 [0] NCCL INFO Channel 04/32 :    0\n",
      "pytorch-1-12-gpu-p-ml-g4dn-2xlarge-1f5d52cab501ceb4d2e976f72d74:386:466 [0] NCCL INFO Channel 05/32 :    0\n",
      "pytorch-1-12-gpu-p-ml-g4dn-2xlarge-1f5d52cab501ceb4d2e976f72d74:386:466 [0] NCCL INFO Channel 06/32 :    0\n",
      "pytorch-1-12-gpu-p-ml-g4dn-2xlarge-1f5d52cab501ceb4d2e976f72d74:386:466 [0] NCCL INFO Channel 07/32 :    0\n",
      "pytorch-1-12-gpu-p-ml-g4dn-2xlarge-1f5d52cab501ceb4d2e976f72d74:386:466 [0] NCCL INFO Channel 08/32 :    0\n",
      "pytorch-1-12-gpu-p-ml-g4dn-2xlarge-1f5d52cab501ceb4d2e976f72d74:386:466 [0] NCCL INFO Channel 09/32 :    0\n",
      "pytorch-1-12-gpu-p-ml-g4dn-2xlarge-1f5d52cab501ceb4d2e976f72d74:386:466 [0] NCCL INFO Channel 10/32 :    0\n",
      "pytorch-1-12-gpu-p-ml-g4dn-2xlarge-1f5d52cab501ceb4d2e976f72d74:386:466 [0] NCCL INFO Channel 11/32 :    0\n",
      "pytorch-1-12-gpu-p-ml-g4dn-2xlarge-1f5d52cab501ceb4d2e976f72d74:386:466 [0] NCCL INFO Channel 12/32 :    0\n",
      "pytorch-1-12-gpu-p-ml-g4dn-2xlarge-1f5d52cab501ceb4d2e976f72d74:386:466 [0] NCCL INFO Channel 13/32 :    0\n",
      "pytorch-1-12-gpu-p-ml-g4dn-2xlarge-1f5d52cab501ceb4d2e976f72d74:386:466 [0] NCCL INFO Channel 14/32 :    0\n",
      "pytorch-1-12-gpu-p-ml-g4dn-2xlarge-1f5d52cab501ceb4d2e976f72d74:386:466 [0] NCCL INFO Channel 15/32 :    0\n",
      "pytorch-1-12-gpu-p-ml-g4dn-2xlarge-1f5d52cab501ceb4d2e976f72d74:386:466 [0] NCCL INFO Channel 16/32 :    0\n",
      "pytorch-1-12-gpu-p-ml-g4dn-2xlarge-1f5d52cab501ceb4d2e976f72d74:386:466 [0] NCCL INFO Channel 17/32 :    0\n",
      "pytorch-1-12-gpu-p-ml-g4dn-2xlarge-1f5d52cab501ceb4d2e976f72d74:386:466 [0] NCCL INFO Channel 18/32 :    0\n",
      "pytorch-1-12-gpu-p-ml-g4dn-2xlarge-1f5d52cab501ceb4d2e976f72d74:386:466 [0] NCCL INFO Channel 19/32 :    0\n",
      "pytorch-1-12-gpu-p-ml-g4dn-2xlarge-1f5d52cab501ceb4d2e976f72d74:386:466 [0] NCCL INFO Channel 20/32 :    0\n",
      "pytorch-1-12-gpu-p-ml-g4dn-2xlarge-1f5d52cab501ceb4d2e976f72d74:386:466 [0] NCCL INFO Channel 21/32 :    0\n",
      "pytorch-1-12-gpu-p-ml-g4dn-2xlarge-1f5d52cab501ceb4d2e976f72d74:386:466 [0] NCCL INFO Channel 22/32 :    0\n",
      "pytorch-1-12-gpu-p-ml-g4dn-2xlarge-1f5d52cab501ceb4d2e976f72d74:386:466 [0] NCCL INFO Channel 23/32 :    0\n",
      "pytorch-1-12-gpu-p-ml-g4dn-2xlarge-1f5d52cab501ceb4d2e976f72d74:386:466 [0] NCCL INFO Channel 24/32 :    0\n",
      "pytorch-1-12-gpu-p-ml-g4dn-2xlarge-1f5d52cab501ceb4d2e976f72d74:386:466 [0] NCCL INFO Channel 25/32 :    0\n",
      "pytorch-1-12-gpu-p-ml-g4dn-2xlarge-1f5d52cab501ceb4d2e976f72d74:386:466 [0] NCCL INFO Channel 26/32 :    0\n",
      "pytorch-1-12-gpu-p-ml-g4dn-2xlarge-1f5d52cab501ceb4d2e976f72d74:386:466 [0] NCCL INFO Channel 27/32 :    0\n",
      "pytorch-1-12-gpu-p-ml-g4dn-2xlarge-1f5d52cab501ceb4d2e976f72d74:386:466 [0] NCCL INFO Channel 28/32 :    0\n",
      "pytorch-1-12-gpu-p-ml-g4dn-2xlarge-1f5d52cab501ceb4d2e976f72d74:386:466 [0] NCCL INFO Channel 29/32 :    0\n",
      "pytorch-1-12-gpu-p-ml-g4dn-2xlarge-1f5d52cab501ceb4d2e976f72d74:386:466 [0] NCCL INFO Channel 30/32 :    0\n",
      "pytorch-1-12-gpu-p-ml-g4dn-2xlarge-1f5d52cab501ceb4d2e976f72d74:386:466 [0] NCCL INFO Channel 31/32 :    0\n",
      "pytorch-1-12-gpu-p-ml-g4dn-2xlarge-1f5d52cab501ceb4d2e976f72d74:386:466 [0] NCCL INFO Trees [0] -1/-1/-1->0->-1 [1] -1/-1/-1->0->-1 [2] -1/-1/-1->0->-1 [3] -1/-1/-1->0->-1 [4] -1/-1/-1->0->-1 [5] -1/-1/-1->0->-1 [6] -1/-1/-1->0->-1 [7] -1/-1/-1->0->-1 [8] -1/-1/-1->0->-1 [9] -1/-1/-1->0->-1 [10] -1/-1/-1->0->-1 [11] -1/-1/-1->0->-1 [12] -1/-1/-1->0->-1 [13] -1/-1/-1->0->-1 [14] -1/-1/-1->0->-1 [15] -1/-1/-1->0->-1 [16] -1/-1/-1->0->-1 [17] -1/-1/-1->0->-1 [18] -1/-1/-1->0->-1 [19] -1/-1/-1->0->-1 [20] -1/-1/-1->0->-1 [21] -1/-1/-1->0->-1 [22] -1/-1/-1->0->-1 [23] -1/-1/-1->0->-1 [24] -1/-1/-1->0->-1 [25] -1/-1/-1->0->-1 [26] -1/-1/-1->0->-1 [27] -1/-1/-1->0->-1 [28] -1/-1/-1->0->-1 [29] -1/-1/-1->0->-1 [30] -1/-1/-1->0->-1 [31] -1/-1/-1->0->-1\n",
      "pytorch-1-12-gpu-p-ml-g4dn-2xlarge-1f5d52cab501ceb4d2e976f72d74:386:466 [0] NCCL INFO Connected all rings\n",
      "pytorch-1-12-gpu-p-ml-g4dn-2xlarge-1f5d52cab501ceb4d2e976f72d74:386:466 [0] NCCL INFO Connected all trees\n",
      "pytorch-1-12-gpu-p-ml-g4dn-2xlarge-1f5d52cab501ceb4d2e976f72d74:386:466 [0] NCCL INFO 32 coll channels, 32 p2p channels, 32 p2p channels per peer\n",
      "pytorch-1-12-gpu-p-ml-g4dn-2xlarge-1f5d52cab501ceb4d2e976f72d74:386:466 [0] NCCL INFO comm 0x7fbfd8003910 rank 0 nranks 1 cudaDev 0 busId 1e0 - Init COMPLETE\n",
      "07/11/2023 21:55:07 - INFO - __main__ - ***** Running training *****\n",
      "07/11/2023 21:55:07 - INFO - __main__ -   Num examples = 500\n",
      "07/11/2023 21:55:07 - INFO - __main__ -   Num Epochs = 80\n",
      "07/11/2023 21:55:07 - INFO - __main__ -   Instantaneous batch size per device = 1\n",
      "07/11/2023 21:55:07 - INFO - __main__ -   Total train batch size (w. parallel, distributed & accumulation) = 4\n",
      "07/11/2023 21:55:07 - INFO - __main__ -   Gradient Accumulation steps = 4\n",
      "07/11/2023 21:55:07 - INFO - __main__ -   Total optimization steps = 10000\n",
      "Steps:   0%|                                          | 0/10000 [00:00<?, ?it/s][2023-07-11 21:55:08.649: W smdistributed/modelparallel/torch/nn/predefined_hooks.py:78] Found unsupported HuggingFace version 4.30.2 for automated tensor parallelism. HuggingFace modules will not be automatically distributed. You can use smp.tp_register_with_module API to register desired modules for tensor parallelism, or directly instantiate an smp.nn.DistributedModule. Supported HuggingFace transformers versions for automated tensor parallelism: ['4.17.0', '4.20.1', '4.21.0']\n",
      "[2023-07-11 21:55:08.694 pytorch-1-12-gpu-p-ml-g4dn-2xlarge-1f5d52cab501ceb4d2e976f72d74:386 INFO utils.py:28] RULE_JOB_STOP_SIGNAL_FILENAME: None\n",
      "/opt/conda/lib/python3.8/site-packages/smdebug-1.0.24b20230214-py3.8.egg/smdebug/profiler/system_metrics_reader.py:78: SyntaxWarning: \"is not\" with a literal. Did you mean \"!=\"?\n",
      "/opt/conda/lib/python3.8/site-packages/smdebug-1.0.24b20230214-py3.8.egg/smdebug/profiler/system_metrics_reader.py:78: SyntaxWarning: \"is not\" with a literal. Did you mean \"!=\"?\n",
      "[2023-07-11 21:55:08.837 pytorch-1-12-gpu-p-ml-g4dn-2xlarge-1f5d52cab501ceb4d2e976f72d74:386 INFO profiler_config_parser.py:111] Unable to find config at /opt/ml/input/config/profilerconfig.json. Profiler is disabled.\n",
      "Steps:   1%| | 125/10000 [03:30<4:39:01,  1.70s/it, lr=0.0001, step_loss=0.0077507/11/2023 21:58:37 - INFO - __main__ - Running validation... \n",
      " Generating 4 images with prompt: draw, airplane.\n",
      "{'requires_safety_checker'} was not found in config. Values will be initialized to default values.\n",
      "{'timestep_spacing', 'prediction_type'} was not found in config. Values will be initialized to default values.\n",
      "{'scaling_factor'} was not found in config. Values will be initialized to default values.\n",
      "`text_config_dict` is provided which will be used to initialize `CLIPTextConfig`. The value `text_config[\"id2label\"]` will be overriden.\n",
      "Steps:   2%| | 250/10000 [07:39<4:39:14,  1.72s/it, lr=0.0001, step_loss=0.0017907/11/2023 22:02:46 - INFO - __main__ - Running validation... \n",
      " Generating 4 images with prompt: draw, airplane.\n",
      "{'requires_safety_checker'} was not found in config. Values will be initialized to default values.\n",
      "{'timestep_spacing', 'prediction_type'} was not found in config. Values will be initialized to default values.\n",
      "{'scaling_factor'} was not found in config. Values will be initialized to default values.\n",
      "`text_config_dict` is provided which will be used to initialize `CLIPTextConfig`. The value `text_config[\"id2label\"]` will be overriden.\n",
      "Steps:   4%| | 375/10000 [11:50<4:36:01,  1.72s/it, lr=0.0001, step_loss=0.0049207/11/2023 22:06:57 - INFO - __main__ - Running validation... \n",
      " Generating 4 images with prompt: draw, airplane.\n",
      "{'requires_safety_checker'} was not found in config. Values will be initialized to default values.\n",
      "{'timestep_spacing', 'prediction_type'} was not found in config. Values will be initialized to default values.\n",
      "{'scaling_factor'} was not found in config. Values will be initialized to default values.\n",
      "`text_config_dict` is provided which will be used to initialize `CLIPTextConfig`. The value `text_config[\"id2label\"]` will be overriden.\n",
      "Potential NSFW content was detected in one or more images. A black image will be returned instead. Try again with a different prompt and/or seed.\n",
      "Steps:   5%| | 500/10000 [16:01<4:32:45,  1.72s/it, lr=0.0001, step_loss=0.0154]07/11/2023 22:11:08 - INFO - accelerate.accelerator - Saving current state to lora_model/checkpoint-500\n",
      "07/11/2023 22:11:08 - INFO - accelerate.checkpointing - Model weights saved in lora_model/checkpoint-500/pytorch_model.bin\n",
      "07/11/2023 22:11:08 - INFO - accelerate.checkpointing - Optimizer state saved in lora_model/checkpoint-500/optimizer.bin\n",
      "07/11/2023 22:11:08 - INFO - accelerate.checkpointing - Scheduler state saved in lora_model/checkpoint-500/scheduler.bin\n",
      "07/11/2023 22:11:08 - INFO - accelerate.checkpointing - Gradient scaler state saved in lora_model/checkpoint-500/scaler.pt\n",
      "07/11/2023 22:11:08 - INFO - accelerate.checkpointing - Random states saved in lora_model/checkpoint-500/random_states_0.pkl\n",
      "07/11/2023 22:11:08 - INFO - __main__ - Saved state to lora_model/checkpoint-500\n",
      "Steps:   5%| | 500/10000 [16:01<4:32:45,  1.72s/it, lr=0.0001, step_loss=0.0166]07/11/2023 22:11:08 - INFO - __main__ - Running validation... \n",
      " Generating 4 images with prompt: draw, airplane.\n",
      "{'requires_safety_checker'} was not found in config. Values will be initialized to default values.\n",
      "{'timestep_spacing', 'prediction_type'} was not found in config. Values will be initialized to default values.\n",
      "{'scaling_factor'} was not found in config. Values will be initialized to default values.\n",
      "`text_config_dict` is provided which will be used to initialize `CLIPTextConfig`. The value `text_config[\"id2label\"]` will be overriden.\n",
      "Potential NSFW content was detected in one or more images. A black image will be returned instead. Try again with a different prompt and/or seed.\n",
      "Potential NSFW content was detected in one or more images. A black image will be returned instead. Try again with a different prompt and/or seed.\n",
      "Traceback (most recent call last):\n",
      "  File \"train_text_to_image_lora.py\", line 950, in <module>\n",
      "    main()\n",
      "  File \"train_text_to_image_lora.py\", line 801, in main\n",
      "    accelerator.backward(loss)\n",
      "  File \"/opt/conda/lib/python3.8/site-packages/accelerate/accelerator.py\", line 1819, in backward\n",
      "    self.scaler.scale(loss).backward(**kwargs)\n",
      "  File \"/opt/conda/lib/python3.8/site-packages/torch/_tensor.py\", line 396, in backward\n",
      "    torch.autograd.backward(self, gradient, retain_graph, create_graph, inputs=inputs)\n",
      "  File \"/opt/conda/lib/python3.8/site-packages/torch/autograd/__init__.py\", line 173, in backward\n",
      "    Variable._execution_engine.run_backward(  # Calls into the C++ engine to run the backward pass\n",
      "RuntimeError: CUDA out of memory. Tried to allocate 256.00 MiB (GPU 0; 14.76 GiB total capacity; 7.97 GiB already allocated; 256.75 MiB free; 8.17 GiB reserved in total by PyTorch) If reserved memory is >> allocated memory try setting max_split_size_mb to avoid fragmentation.  See documentation for Memory Management and PYTORCH_CUDA_ALLOC_CONF\n",
      "Steps:   5%| | 500/10000 [16:36<5:15:37,  1.99s/it, lr=0.0001, step_loss=0.0166]\n",
      "ERROR:torch.distributed.elastic.multiprocessing.api:failed (exitcode: 1) local_rank: 0 (pid: 386) of binary: /opt/conda/bin/python3.8\n",
      "Traceback (most recent call last):\n",
      "  File \"/opt/conda/bin/accelerate\", line 8, in <module>\n",
      "    sys.exit(main())\n",
      "  File \"/opt/conda/lib/python3.8/site-packages/accelerate/commands/accelerate_cli.py\", line 45, in main\n",
      "    args.func(args)\n",
      "  File \"/opt/conda/lib/python3.8/site-packages/accelerate/commands/launch.py\", line 932, in launch_command\n",
      "    multi_gpu_launcher(args)\n",
      "  File \"/opt/conda/lib/python3.8/site-packages/accelerate/commands/launch.py\", line 627, in multi_gpu_launcher\n",
      "    distrib_run.run(args)\n",
      "  File \"/opt/conda/lib/python3.8/site-packages/torch/distributed/run.py\", line 752, in run\n",
      "    elastic_launch(\n",
      "  File \"/opt/conda/lib/python3.8/site-packages/torch/distributed/launcher/api.py\", line 131, in __call__\n",
      "    return launch_agent(self._config, self._entrypoint, list(args))\n",
      "  File \"/opt/conda/lib/python3.8/site-packages/torch/distributed/launcher/api.py\", line 245, in launch_agent\n",
      "    raise ChildFailedError(\n",
      "torch.distributed.elastic.multiprocessing.errors.ChildFailedError: \n",
      "============================================================\n",
      "train_text_to_image_lora.py FAILED\n",
      "------------------------------------------------------------\n",
      "Failures:\n",
      "  <NO_OTHER_FAILURES>\n",
      "------------------------------------------------------------\n",
      "Root Cause (first observed failure):\n",
      "[0]:\n",
      "  time      : 2023-07-11_22:11:46\n",
      "  host      : pytorch-1-12-gpu-p-ml-g4dn-2xlarge-1f5d52cab501ceb4d2e976f72d74\n",
      "  rank      : 0 (local_rank: 0)\n",
      "  exitcode  : 1 (pid: 386)\n",
      "  error_file: <N/A>\n",
      "  traceback : To enable traceback see: https://pytorch.org/docs/stable/elastic/errors.html\n",
      "============================================================\n"
     ]
    }
   ],
   "source": [
    "!accelerate launch --config_file=config.yaml \\\n",
    "  --mixed_precision=\"fp16\" \\\n",
    "  train_text_to_image_lora.py \\\n",
    "  --pretrained_model_name_or_path=$MODEL_NAME \\\n",
    "  --train_data_dir=$TRAIN_DIR \\\n",
    "  --resolution=512 --center_crop --random_flip \\\n",
    "  --train_batch_size=1 \\\n",
    "  --gradient_accumulation_steps=4 \\\n",
    "  --max_train_steps=10000 \\\n",
    "  --learning_rate=1e-04 \\\n",
    "  --max_grad_norm=1 \\\n",
    "  --lr_scheduler=\"cosine\" --lr_warmup_steps=0 \\\n",
    "  --output_dir=$OUTPUT_DIR \\\n",
    "  --checkpointing_steps=500 \\\n",
    "  --validation_prompt=\"draw, airplane\" \\\n",
    "  --seed=1337"
   ]
  },
  {
   "cell_type": "code",
   "execution_count": 6,
   "id": "c8c55175-a34e-4bac-b8eb-af49d48f890b",
   "metadata": {
    "tags": []
   },
   "outputs": [
    {
     "name": "stdout",
     "output_type": "stream",
     "text": [
      "Requirement already satisfied: transformers in /opt/conda/lib/python3.8/site-packages (4.30.2)\n",
      "Requirement already satisfied: tokenizers!=0.11.3,<0.14,>=0.11.1 in /opt/conda/lib/python3.8/site-packages (from transformers) (0.13.3)\n",
      "Requirement already satisfied: regex!=2019.12.17 in /opt/conda/lib/python3.8/site-packages (from transformers) (2023.6.3)\n",
      "Requirement already satisfied: packaging>=20.0 in /opt/conda/lib/python3.8/site-packages (from transformers) (23.0)\n",
      "Requirement already satisfied: safetensors>=0.3.1 in /opt/conda/lib/python3.8/site-packages (from transformers) (0.3.1)\n",
      "Requirement already satisfied: huggingface-hub<1.0,>=0.14.1 in /opt/conda/lib/python3.8/site-packages (from transformers) (0.16.4)\n",
      "Requirement already satisfied: tqdm>=4.27 in /opt/conda/lib/python3.8/site-packages (from transformers) (4.64.1)\n",
      "Requirement already satisfied: numpy>=1.17 in /opt/conda/lib/python3.8/site-packages (from transformers) (1.23.5)\n",
      "Requirement already satisfied: pyyaml>=5.1 in /opt/conda/lib/python3.8/site-packages (from transformers) (5.4.1)\n",
      "Requirement already satisfied: requests in /opt/conda/lib/python3.8/site-packages (from transformers) (2.28.2)\n",
      "Requirement already satisfied: filelock in /opt/conda/lib/python3.8/site-packages (from transformers) (3.12.2)\n",
      "Requirement already satisfied: fsspec in /opt/conda/lib/python3.8/site-packages (from huggingface-hub<1.0,>=0.14.1->transformers) (2023.1.0)\n",
      "Requirement already satisfied: typing-extensions>=3.7.4.3 in /opt/conda/lib/python3.8/site-packages (from huggingface-hub<1.0,>=0.14.1->transformers) (4.4.0)\n",
      "Requirement already satisfied: idna<4,>=2.5 in /opt/conda/lib/python3.8/site-packages (from requests->transformers) (3.4)\n",
      "Requirement already satisfied: charset-normalizer<4,>=2 in /opt/conda/lib/python3.8/site-packages (from requests->transformers) (2.1.1)\n",
      "Requirement already satisfied: urllib3<1.27,>=1.21.1 in /opt/conda/lib/python3.8/site-packages (from requests->transformers) (1.26.14)\n",
      "Requirement already satisfied: certifi>=2017.4.17 in /opt/conda/lib/python3.8/site-packages (from requests->transformers) (2022.12.7)\n",
      "\u001b[33mWARNING: Running pip as the 'root' user can result in broken permissions and conflicting behaviour with the system package manager. It is recommended to use a virtual environment instead: https://pip.pypa.io/warnings/venv\u001b[0m\u001b[33m\n",
      "\u001b[0m\n",
      "\u001b[1m[\u001b[0m\u001b[34;49mnotice\u001b[0m\u001b[1;39;49m]\u001b[0m\u001b[39;49m A new release of pip is available: \u001b[0m\u001b[31;49m23.0\u001b[0m\u001b[39;49m -> \u001b[0m\u001b[32;49m23.1.2\u001b[0m\n",
      "\u001b[1m[\u001b[0m\u001b[34;49mnotice\u001b[0m\u001b[1;39;49m]\u001b[0m\u001b[39;49m To update, run: \u001b[0m\u001b[32;49mpip install --upgrade pip\u001b[0m\n",
      "Requirement already satisfied: diffusers in /opt/conda/lib/python3.8/site-packages (0.18.2)\n",
      "Requirement already satisfied: requests in /opt/conda/lib/python3.8/site-packages (from diffusers) (2.28.2)\n",
      "Requirement already satisfied: regex!=2019.12.17 in /opt/conda/lib/python3.8/site-packages (from diffusers) (2023.6.3)\n",
      "Requirement already satisfied: filelock in /opt/conda/lib/python3.8/site-packages (from diffusers) (3.12.2)\n",
      "Requirement already satisfied: huggingface-hub>=0.13.2 in /opt/conda/lib/python3.8/site-packages (from diffusers) (0.16.4)\n",
      "Requirement already satisfied: importlib-metadata in /opt/conda/lib/python3.8/site-packages (from diffusers) (4.13.0)\n",
      "Requirement already satisfied: Pillow in /opt/conda/lib/python3.8/site-packages (from diffusers) (9.4.0)\n",
      "Requirement already satisfied: numpy in /opt/conda/lib/python3.8/site-packages (from diffusers) (1.23.5)\n",
      "Requirement already satisfied: typing-extensions>=3.7.4.3 in /opt/conda/lib/python3.8/site-packages (from huggingface-hub>=0.13.2->diffusers) (4.4.0)\n",
      "Requirement already satisfied: packaging>=20.9 in /opt/conda/lib/python3.8/site-packages (from huggingface-hub>=0.13.2->diffusers) (23.0)\n",
      "Requirement already satisfied: pyyaml>=5.1 in /opt/conda/lib/python3.8/site-packages (from huggingface-hub>=0.13.2->diffusers) (5.4.1)\n",
      "Requirement already satisfied: fsspec in /opt/conda/lib/python3.8/site-packages (from huggingface-hub>=0.13.2->diffusers) (2023.1.0)\n",
      "Requirement already satisfied: tqdm>=4.42.1 in /opt/conda/lib/python3.8/site-packages (from huggingface-hub>=0.13.2->diffusers) (4.64.1)\n",
      "Requirement already satisfied: zipp>=0.5 in /opt/conda/lib/python3.8/site-packages (from importlib-metadata->diffusers) (3.13.0)\n",
      "Requirement already satisfied: charset-normalizer<4,>=2 in /opt/conda/lib/python3.8/site-packages (from requests->diffusers) (2.1.1)\n",
      "Requirement already satisfied: certifi>=2017.4.17 in /opt/conda/lib/python3.8/site-packages (from requests->diffusers) (2022.12.7)\n",
      "Requirement already satisfied: urllib3<1.27,>=1.21.1 in /opt/conda/lib/python3.8/site-packages (from requests->diffusers) (1.26.14)\n",
      "Requirement already satisfied: idna<4,>=2.5 in /opt/conda/lib/python3.8/site-packages (from requests->diffusers) (3.4)\n",
      "\u001b[33mWARNING: Running pip as the 'root' user can result in broken permissions and conflicting behaviour with the system package manager. It is recommended to use a virtual environment instead: https://pip.pypa.io/warnings/venv\u001b[0m\u001b[33m\n",
      "\u001b[0m\n",
      "\u001b[1m[\u001b[0m\u001b[34;49mnotice\u001b[0m\u001b[1;39;49m]\u001b[0m\u001b[39;49m A new release of pip is available: \u001b[0m\u001b[31;49m23.0\u001b[0m\u001b[39;49m -> \u001b[0m\u001b[32;49m23.1.2\u001b[0m\n",
      "\u001b[1m[\u001b[0m\u001b[34;49mnotice\u001b[0m\u001b[1;39;49m]\u001b[0m\u001b[39;49m To update, run: \u001b[0m\u001b[32;49mpip install --upgrade pip\u001b[0m\n",
      "Collecting accelerate\n",
      "  Using cached accelerate-0.20.3-py3-none-any.whl (227 kB)\n",
      "Requirement already satisfied: pyyaml in /opt/conda/lib/python3.8/site-packages (from accelerate) (5.4.1)\n",
      "Requirement already satisfied: packaging>=20.0 in /opt/conda/lib/python3.8/site-packages (from accelerate) (23.0)\n",
      "Requirement already satisfied: torch>=1.6.0 in /opt/conda/lib/python3.8/site-packages (from accelerate) (1.12.1+cu113)\n",
      "Requirement already satisfied: psutil in /opt/conda/lib/python3.8/site-packages (from accelerate) (5.9.4)\n",
      "Requirement already satisfied: numpy>=1.17 in /opt/conda/lib/python3.8/site-packages (from accelerate) (1.23.5)\n",
      "Requirement already satisfied: typing-extensions in /opt/conda/lib/python3.8/site-packages (from torch>=1.6.0->accelerate) (4.4.0)\n",
      "Installing collected packages: accelerate\n",
      "Successfully installed accelerate-0.20.3\n",
      "\u001b[33mWARNING: Running pip as the 'root' user can result in broken permissions and conflicting behaviour with the system package manager. It is recommended to use a virtual environment instead: https://pip.pypa.io/warnings/venv\u001b[0m\u001b[33m\n",
      "\u001b[0m\n",
      "\u001b[1m[\u001b[0m\u001b[34;49mnotice\u001b[0m\u001b[1;39;49m]\u001b[0m\u001b[39;49m A new release of pip is available: \u001b[0m\u001b[31;49m23.0\u001b[0m\u001b[39;49m -> \u001b[0m\u001b[32;49m23.1.2\u001b[0m\n",
      "\u001b[1m[\u001b[0m\u001b[34;49mnotice\u001b[0m\u001b[1;39;49m]\u001b[0m\u001b[39;49m To update, run: \u001b[0m\u001b[32;49mpip install --upgrade pip\u001b[0m\n"
     ]
    }
   ],
   "source": [
    "!pip install transformers --upgrade\n",
    "!pip install diffusers\n",
    "!pip install accelerate"
   ]
  },
  {
   "cell_type": "markdown",
   "id": "cf712bc8-e258-495c-9250-6c3a42ca544d",
   "metadata": {},
   "source": [
    "#2. Inference"
   ]
  },
  {
   "cell_type": "code",
   "execution_count": 25,
   "id": "1323e5e4-4f67-4f1d-b52a-e2492fad87a3",
   "metadata": {
    "tags": []
   },
   "outputs": [
    {
     "name": "stderr",
     "output_type": "stream",
     "text": [
      "Cannot initialize model with low cpu memory usage because `accelerate` was not found in the environment. Defaulting to `low_cpu_mem_usage=False`. It is strongly recommended to install `accelerate` for faster and less memory-intense model loading. You can do so with: \n",
      "```\n",
      "pip install accelerate\n",
      "```\n",
      ".\n",
      "`text_config_dict` is provided which will be used to initialize `CLIPTextConfig`. The value `text_config[\"id2label\"]` will be overriden.\n"
     ]
    },
    {
     "data": {
      "text/plain": [
       "StableDiffusionPipeline {\n",
       "  \"_class_name\": \"StableDiffusionPipeline\",\n",
       "  \"_diffusers_version\": \"0.18.2\",\n",
       "  \"feature_extractor\": [\n",
       "    \"transformers\",\n",
       "    \"CLIPImageProcessor\"\n",
       "  ],\n",
       "  \"requires_safety_checker\": true,\n",
       "  \"safety_checker\": [\n",
       "    \"stable_diffusion\",\n",
       "    \"StableDiffusionSafetyChecker\"\n",
       "  ],\n",
       "  \"scheduler\": [\n",
       "    \"diffusers\",\n",
       "    \"PNDMScheduler\"\n",
       "  ],\n",
       "  \"text_encoder\": [\n",
       "    \"transformers\",\n",
       "    \"CLIPTextModel\"\n",
       "  ],\n",
       "  \"tokenizer\": [\n",
       "    \"transformers\",\n",
       "    \"CLIPTokenizer\"\n",
       "  ],\n",
       "  \"unet\": [\n",
       "    \"diffusers\",\n",
       "    \"UNet2DConditionModel\"\n",
       "  ],\n",
       "  \"vae\": [\n",
       "    \"diffusers\",\n",
       "    \"AutoencoderKL\"\n",
       "  ]\n",
       "}"
      ]
     },
     "execution_count": 25,
     "metadata": {},
     "output_type": "execute_result"
    }
   ],
   "source": [
    "import torch\n",
    "from diffusers import StableDiffusionPipeline\n",
    "\n",
    "model_base=MODEL_NAME\n",
    "pipe = StableDiffusionPipeline.from_pretrained(model_base, torch_dtype=torch.float16)\n",
    "\n",
    "lora_model_path = OUTPUT_DIR\n",
    "\n",
    "pipe.unet.load_attn_procs(lora_model_path)\n",
    "pipe.to(\"cuda\")"
   ]
  },
  {
   "cell_type": "code",
   "execution_count": 31,
   "id": "a2564335-345d-4772-9ba4-a9f61f55ec5d",
   "metadata": {
    "tags": []
   },
   "outputs": [
    {
     "name": "stderr",
     "output_type": "stream",
     "text": [
      "100%|██████████| 25/25 [00:05<00:00,  4.69it/s]\n"
     ]
    }
   ],
   "source": [
    "prompt = \"draw, toy\"\n",
    "image = pipe(prompt, num_inference_steps=25, guidance_scale=7.5).images[0]\n",
    "image.save(prompt + \".png\")"
   ]
  },
  {
   "cell_type": "code",
   "execution_count": null,
   "id": "985313e3-66d3-4866-88d5-4c5489a4908f",
   "metadata": {},
   "outputs": [],
   "source": []
  }
 ],
 "metadata": {
  "availableInstances": [
   {
    "_defaultOrder": 0,
    "_isFastLaunch": true,
    "category": "General purpose",
    "gpuNum": 0,
    "hideHardwareSpecs": false,
    "memoryGiB": 4,
    "name": "ml.t3.medium",
    "vcpuNum": 2
   },
   {
    "_defaultOrder": 1,
    "_isFastLaunch": false,
    "category": "General purpose",
    "gpuNum": 0,
    "hideHardwareSpecs": false,
    "memoryGiB": 8,
    "name": "ml.t3.large",
    "vcpuNum": 2
   },
   {
    "_defaultOrder": 2,
    "_isFastLaunch": false,
    "category": "General purpose",
    "gpuNum": 0,
    "hideHardwareSpecs": false,
    "memoryGiB": 16,
    "name": "ml.t3.xlarge",
    "vcpuNum": 4
   },
   {
    "_defaultOrder": 3,
    "_isFastLaunch": false,
    "category": "General purpose",
    "gpuNum": 0,
    "hideHardwareSpecs": false,
    "memoryGiB": 32,
    "name": "ml.t3.2xlarge",
    "vcpuNum": 8
   },
   {
    "_defaultOrder": 4,
    "_isFastLaunch": true,
    "category": "General purpose",
    "gpuNum": 0,
    "hideHardwareSpecs": false,
    "memoryGiB": 8,
    "name": "ml.m5.large",
    "vcpuNum": 2
   },
   {
    "_defaultOrder": 5,
    "_isFastLaunch": false,
    "category": "General purpose",
    "gpuNum": 0,
    "hideHardwareSpecs": false,
    "memoryGiB": 16,
    "name": "ml.m5.xlarge",
    "vcpuNum": 4
   },
   {
    "_defaultOrder": 6,
    "_isFastLaunch": false,
    "category": "General purpose",
    "gpuNum": 0,
    "hideHardwareSpecs": false,
    "memoryGiB": 32,
    "name": "ml.m5.2xlarge",
    "vcpuNum": 8
   },
   {
    "_defaultOrder": 7,
    "_isFastLaunch": false,
    "category": "General purpose",
    "gpuNum": 0,
    "hideHardwareSpecs": false,
    "memoryGiB": 64,
    "name": "ml.m5.4xlarge",
    "vcpuNum": 16
   },
   {
    "_defaultOrder": 8,
    "_isFastLaunch": false,
    "category": "General purpose",
    "gpuNum": 0,
    "hideHardwareSpecs": false,
    "memoryGiB": 128,
    "name": "ml.m5.8xlarge",
    "vcpuNum": 32
   },
   {
    "_defaultOrder": 9,
    "_isFastLaunch": false,
    "category": "General purpose",
    "gpuNum": 0,
    "hideHardwareSpecs": false,
    "memoryGiB": 192,
    "name": "ml.m5.12xlarge",
    "vcpuNum": 48
   },
   {
    "_defaultOrder": 10,
    "_isFastLaunch": false,
    "category": "General purpose",
    "gpuNum": 0,
    "hideHardwareSpecs": false,
    "memoryGiB": 256,
    "name": "ml.m5.16xlarge",
    "vcpuNum": 64
   },
   {
    "_defaultOrder": 11,
    "_isFastLaunch": false,
    "category": "General purpose",
    "gpuNum": 0,
    "hideHardwareSpecs": false,
    "memoryGiB": 384,
    "name": "ml.m5.24xlarge",
    "vcpuNum": 96
   },
   {
    "_defaultOrder": 12,
    "_isFastLaunch": false,
    "category": "General purpose",
    "gpuNum": 0,
    "hideHardwareSpecs": false,
    "memoryGiB": 8,
    "name": "ml.m5d.large",
    "vcpuNum": 2
   },
   {
    "_defaultOrder": 13,
    "_isFastLaunch": false,
    "category": "General purpose",
    "gpuNum": 0,
    "hideHardwareSpecs": false,
    "memoryGiB": 16,
    "name": "ml.m5d.xlarge",
    "vcpuNum": 4
   },
   {
    "_defaultOrder": 14,
    "_isFastLaunch": false,
    "category": "General purpose",
    "gpuNum": 0,
    "hideHardwareSpecs": false,
    "memoryGiB": 32,
    "name": "ml.m5d.2xlarge",
    "vcpuNum": 8
   },
   {
    "_defaultOrder": 15,
    "_isFastLaunch": false,
    "category": "General purpose",
    "gpuNum": 0,
    "hideHardwareSpecs": false,
    "memoryGiB": 64,
    "name": "ml.m5d.4xlarge",
    "vcpuNum": 16
   },
   {
    "_defaultOrder": 16,
    "_isFastLaunch": false,
    "category": "General purpose",
    "gpuNum": 0,
    "hideHardwareSpecs": false,
    "memoryGiB": 128,
    "name": "ml.m5d.8xlarge",
    "vcpuNum": 32
   },
   {
    "_defaultOrder": 17,
    "_isFastLaunch": false,
    "category": "General purpose",
    "gpuNum": 0,
    "hideHardwareSpecs": false,
    "memoryGiB": 192,
    "name": "ml.m5d.12xlarge",
    "vcpuNum": 48
   },
   {
    "_defaultOrder": 18,
    "_isFastLaunch": false,
    "category": "General purpose",
    "gpuNum": 0,
    "hideHardwareSpecs": false,
    "memoryGiB": 256,
    "name": "ml.m5d.16xlarge",
    "vcpuNum": 64
   },
   {
    "_defaultOrder": 19,
    "_isFastLaunch": false,
    "category": "General purpose",
    "gpuNum": 0,
    "hideHardwareSpecs": false,
    "memoryGiB": 384,
    "name": "ml.m5d.24xlarge",
    "vcpuNum": 96
   },
   {
    "_defaultOrder": 20,
    "_isFastLaunch": false,
    "category": "General purpose",
    "gpuNum": 0,
    "hideHardwareSpecs": true,
    "memoryGiB": 0,
    "name": "ml.geospatial.interactive",
    "supportedImageNames": [
     "sagemaker-geospatial-v1-0"
    ],
    "vcpuNum": 0
   },
   {
    "_defaultOrder": 21,
    "_isFastLaunch": true,
    "category": "Compute optimized",
    "gpuNum": 0,
    "hideHardwareSpecs": false,
    "memoryGiB": 4,
    "name": "ml.c5.large",
    "vcpuNum": 2
   },
   {
    "_defaultOrder": 22,
    "_isFastLaunch": false,
    "category": "Compute optimized",
    "gpuNum": 0,
    "hideHardwareSpecs": false,
    "memoryGiB": 8,
    "name": "ml.c5.xlarge",
    "vcpuNum": 4
   },
   {
    "_defaultOrder": 23,
    "_isFastLaunch": false,
    "category": "Compute optimized",
    "gpuNum": 0,
    "hideHardwareSpecs": false,
    "memoryGiB": 16,
    "name": "ml.c5.2xlarge",
    "vcpuNum": 8
   },
   {
    "_defaultOrder": 24,
    "_isFastLaunch": false,
    "category": "Compute optimized",
    "gpuNum": 0,
    "hideHardwareSpecs": false,
    "memoryGiB": 32,
    "name": "ml.c5.4xlarge",
    "vcpuNum": 16
   },
   {
    "_defaultOrder": 25,
    "_isFastLaunch": false,
    "category": "Compute optimized",
    "gpuNum": 0,
    "hideHardwareSpecs": false,
    "memoryGiB": 72,
    "name": "ml.c5.9xlarge",
    "vcpuNum": 36
   },
   {
    "_defaultOrder": 26,
    "_isFastLaunch": false,
    "category": "Compute optimized",
    "gpuNum": 0,
    "hideHardwareSpecs": false,
    "memoryGiB": 96,
    "name": "ml.c5.12xlarge",
    "vcpuNum": 48
   },
   {
    "_defaultOrder": 27,
    "_isFastLaunch": false,
    "category": "Compute optimized",
    "gpuNum": 0,
    "hideHardwareSpecs": false,
    "memoryGiB": 144,
    "name": "ml.c5.18xlarge",
    "vcpuNum": 72
   },
   {
    "_defaultOrder": 28,
    "_isFastLaunch": false,
    "category": "Compute optimized",
    "gpuNum": 0,
    "hideHardwareSpecs": false,
    "memoryGiB": 192,
    "name": "ml.c5.24xlarge",
    "vcpuNum": 96
   },
   {
    "_defaultOrder": 29,
    "_isFastLaunch": true,
    "category": "Accelerated computing",
    "gpuNum": 1,
    "hideHardwareSpecs": false,
    "memoryGiB": 16,
    "name": "ml.g4dn.xlarge",
    "vcpuNum": 4
   },
   {
    "_defaultOrder": 30,
    "_isFastLaunch": false,
    "category": "Accelerated computing",
    "gpuNum": 1,
    "hideHardwareSpecs": false,
    "memoryGiB": 32,
    "name": "ml.g4dn.2xlarge",
    "vcpuNum": 8
   },
   {
    "_defaultOrder": 31,
    "_isFastLaunch": false,
    "category": "Accelerated computing",
    "gpuNum": 1,
    "hideHardwareSpecs": false,
    "memoryGiB": 64,
    "name": "ml.g4dn.4xlarge",
    "vcpuNum": 16
   },
   {
    "_defaultOrder": 32,
    "_isFastLaunch": false,
    "category": "Accelerated computing",
    "gpuNum": 1,
    "hideHardwareSpecs": false,
    "memoryGiB": 128,
    "name": "ml.g4dn.8xlarge",
    "vcpuNum": 32
   },
   {
    "_defaultOrder": 33,
    "_isFastLaunch": false,
    "category": "Accelerated computing",
    "gpuNum": 4,
    "hideHardwareSpecs": false,
    "memoryGiB": 192,
    "name": "ml.g4dn.12xlarge",
    "vcpuNum": 48
   },
   {
    "_defaultOrder": 34,
    "_isFastLaunch": false,
    "category": "Accelerated computing",
    "gpuNum": 1,
    "hideHardwareSpecs": false,
    "memoryGiB": 256,
    "name": "ml.g4dn.16xlarge",
    "vcpuNum": 64
   },
   {
    "_defaultOrder": 35,
    "_isFastLaunch": false,
    "category": "Accelerated computing",
    "gpuNum": 1,
    "hideHardwareSpecs": false,
    "memoryGiB": 61,
    "name": "ml.p3.2xlarge",
    "vcpuNum": 8
   },
   {
    "_defaultOrder": 36,
    "_isFastLaunch": false,
    "category": "Accelerated computing",
    "gpuNum": 4,
    "hideHardwareSpecs": false,
    "memoryGiB": 244,
    "name": "ml.p3.8xlarge",
    "vcpuNum": 32
   },
   {
    "_defaultOrder": 37,
    "_isFastLaunch": false,
    "category": "Accelerated computing",
    "gpuNum": 8,
    "hideHardwareSpecs": false,
    "memoryGiB": 488,
    "name": "ml.p3.16xlarge",
    "vcpuNum": 64
   },
   {
    "_defaultOrder": 38,
    "_isFastLaunch": false,
    "category": "Accelerated computing",
    "gpuNum": 8,
    "hideHardwareSpecs": false,
    "memoryGiB": 768,
    "name": "ml.p3dn.24xlarge",
    "vcpuNum": 96
   },
   {
    "_defaultOrder": 39,
    "_isFastLaunch": false,
    "category": "Memory Optimized",
    "gpuNum": 0,
    "hideHardwareSpecs": false,
    "memoryGiB": 16,
    "name": "ml.r5.large",
    "vcpuNum": 2
   },
   {
    "_defaultOrder": 40,
    "_isFastLaunch": false,
    "category": "Memory Optimized",
    "gpuNum": 0,
    "hideHardwareSpecs": false,
    "memoryGiB": 32,
    "name": "ml.r5.xlarge",
    "vcpuNum": 4
   },
   {
    "_defaultOrder": 41,
    "_isFastLaunch": false,
    "category": "Memory Optimized",
    "gpuNum": 0,
    "hideHardwareSpecs": false,
    "memoryGiB": 64,
    "name": "ml.r5.2xlarge",
    "vcpuNum": 8
   },
   {
    "_defaultOrder": 42,
    "_isFastLaunch": false,
    "category": "Memory Optimized",
    "gpuNum": 0,
    "hideHardwareSpecs": false,
    "memoryGiB": 128,
    "name": "ml.r5.4xlarge",
    "vcpuNum": 16
   },
   {
    "_defaultOrder": 43,
    "_isFastLaunch": false,
    "category": "Memory Optimized",
    "gpuNum": 0,
    "hideHardwareSpecs": false,
    "memoryGiB": 256,
    "name": "ml.r5.8xlarge",
    "vcpuNum": 32
   },
   {
    "_defaultOrder": 44,
    "_isFastLaunch": false,
    "category": "Memory Optimized",
    "gpuNum": 0,
    "hideHardwareSpecs": false,
    "memoryGiB": 384,
    "name": "ml.r5.12xlarge",
    "vcpuNum": 48
   },
   {
    "_defaultOrder": 45,
    "_isFastLaunch": false,
    "category": "Memory Optimized",
    "gpuNum": 0,
    "hideHardwareSpecs": false,
    "memoryGiB": 512,
    "name": "ml.r5.16xlarge",
    "vcpuNum": 64
   },
   {
    "_defaultOrder": 46,
    "_isFastLaunch": false,
    "category": "Memory Optimized",
    "gpuNum": 0,
    "hideHardwareSpecs": false,
    "memoryGiB": 768,
    "name": "ml.r5.24xlarge",
    "vcpuNum": 96
   },
   {
    "_defaultOrder": 47,
    "_isFastLaunch": false,
    "category": "Accelerated computing",
    "gpuNum": 1,
    "hideHardwareSpecs": false,
    "memoryGiB": 16,
    "name": "ml.g5.xlarge",
    "vcpuNum": 4
   },
   {
    "_defaultOrder": 48,
    "_isFastLaunch": false,
    "category": "Accelerated computing",
    "gpuNum": 1,
    "hideHardwareSpecs": false,
    "memoryGiB": 32,
    "name": "ml.g5.2xlarge",
    "vcpuNum": 8
   },
   {
    "_defaultOrder": 49,
    "_isFastLaunch": false,
    "category": "Accelerated computing",
    "gpuNum": 1,
    "hideHardwareSpecs": false,
    "memoryGiB": 64,
    "name": "ml.g5.4xlarge",
    "vcpuNum": 16
   },
   {
    "_defaultOrder": 50,
    "_isFastLaunch": false,
    "category": "Accelerated computing",
    "gpuNum": 1,
    "hideHardwareSpecs": false,
    "memoryGiB": 128,
    "name": "ml.g5.8xlarge",
    "vcpuNum": 32
   },
   {
    "_defaultOrder": 51,
    "_isFastLaunch": false,
    "category": "Accelerated computing",
    "gpuNum": 1,
    "hideHardwareSpecs": false,
    "memoryGiB": 256,
    "name": "ml.g5.16xlarge",
    "vcpuNum": 64
   },
   {
    "_defaultOrder": 52,
    "_isFastLaunch": false,
    "category": "Accelerated computing",
    "gpuNum": 4,
    "hideHardwareSpecs": false,
    "memoryGiB": 192,
    "name": "ml.g5.12xlarge",
    "vcpuNum": 48
   },
   {
    "_defaultOrder": 53,
    "_isFastLaunch": false,
    "category": "Accelerated computing",
    "gpuNum": 4,
    "hideHardwareSpecs": false,
    "memoryGiB": 384,
    "name": "ml.g5.24xlarge",
    "vcpuNum": 96
   },
   {
    "_defaultOrder": 54,
    "_isFastLaunch": false,
    "category": "Accelerated computing",
    "gpuNum": 8,
    "hideHardwareSpecs": false,
    "memoryGiB": 768,
    "name": "ml.g5.48xlarge",
    "vcpuNum": 192
   },
   {
    "_defaultOrder": 55,
    "_isFastLaunch": false,
    "category": "Accelerated computing",
    "gpuNum": 8,
    "hideHardwareSpecs": false,
    "memoryGiB": 1152,
    "name": "ml.p4d.24xlarge",
    "vcpuNum": 96
   },
   {
    "_defaultOrder": 56,
    "_isFastLaunch": false,
    "category": "Accelerated computing",
    "gpuNum": 8,
    "hideHardwareSpecs": false,
    "memoryGiB": 1152,
    "name": "ml.p4de.24xlarge",
    "vcpuNum": 96
   }
  ],
  "instance_type": "ml.g4dn.2xlarge",
  "kernelspec": {
   "display_name": "Python 3 (PyTorch 1.12 Python 3.8 GPU Optimized)",
   "language": "python",
   "name": "python3__SAGEMAKER_INTERNAL__arn:aws:sagemaker:us-west-2:236514542706:image/pytorch-1.12-gpu-py38"
  },
  "language_info": {
   "codemirror_mode": {
    "name": "ipython",
    "version": 3
   },
   "file_extension": ".py",
   "mimetype": "text/x-python",
   "name": "python",
   "nbconvert_exporter": "python",
   "pygments_lexer": "ipython3",
   "version": "3.8.16"
  }
 },
 "nbformat": 4,
 "nbformat_minor": 5
}
